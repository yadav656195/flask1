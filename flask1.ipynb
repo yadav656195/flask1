{
 "cells": [
  {
   "cell_type": "code",
   "execution_count": null,
   "id": "81c1e52c-f5ec-4f1d-8983-07df634d2b17",
   "metadata": {},
   "outputs": [],
   "source": [
    "Q1. What is Flask Framework? What are the advantages of Flask Framework?\n",
    "Flask Framework:\n",
    "Flask is a micro web framework for Python that is lightweight and modular. It's designed to be simple and easy to use, \n",
    "\n",
    "allowing developers to build web applications quickly and with minimal code. Flask provides the essentials for building a\n",
    "web application, but it leaves many decisions to the developer, giving them the flexibility to choose components and libraries \n",
    "based on their project requirements.\n",
    "\n",
    "Advantages of Flask Framework:\n",
    "\n",
    "Lightweight and Easy to Learn: Flask has a simple and easy-to-understand syntax, making it accessible for beginners. It doesn't \n",
    "impose any specific way of doing things, allowing developers to choose their preferred tools and libraries.\n",
    "\n",
    "Modularity: Flask is designed with a modular approach, allowing developers to use only the components they need. This makes the\n",
    "framework highly customizable and adaptable to different project requirements.\n",
    "\n",
    "Extensibility: Flask can be extended easily by integrating various third-party extensions and libraries. This flexibility enables \n",
    "developers to add features as needed without bloating the core framework.\n",
    "\n",
    "Built-in Development Server: Flask comes with a built-in development server, making it convenient for testing and debugging\n",
    "applications during the development phase.\n",
    "\n",
    "Large and Active Community: Flask has a large and active community, which means there is ample documentation, tutorials,\n",
    "and community support available. Developers can find solutions to common problems and get assistance from the community."
   ]
  },
  {
   "cell_type": "code",
   "execution_count": null,
   "id": "0c0840aa-997c-40e5-8363-c1beaa89c150",
   "metadata": {},
   "outputs": [],
   "source": [
    "Q2. Create a simple Flask application to display ‘Hello World!!’. Attach the screenshot of the output in Jupyter Notebook.\n",
    "from flask import Flask\n",
    "\n",
    "app = Flask(__name__)\n",
    "\n",
    "@app.route(\"/\")\n",
    "def hello_world():\n",
    "    return \"<h1>Hello, World!</h1>\"\n",
    "\n",
    "if __name__==\"__main__\":\n",
    "    app.run(host=\"0.0.0.0\")\n"
   ]
  },
  {
   "cell_type": "code",
   "execution_count": null,
   "id": "8ccd4aac-01cd-4918-ad28-a55c72434abe",
   "metadata": {},
   "outputs": [],
   "source": [
    "Q3. What is App routing in Flask? Why do we use app routes?\n",
    "App Routing in Flask:\n",
    "App routing in Flask refers to the process of mapping URLs to the functions that handle them. It involves defining different routes\n",
    "for various parts of a web application and associating each route with a specific function (view) that should be executed when the\n",
    "corresponding URL is accessed.\n",
    "\n",
    "Why do we use app routes in Flask?\n",
    "\n",
    "URL Mapping: App routes define the mapping between URLs and the functions that generate the content for those URLs. This helps organize \n",
    "the application's structure and make it accessible via specific URLs.\n",
    "\n",
    "Request Handling: Each app route function handles a specific type of request, such as GET or POST. This allows developers to separate\n",
    "different functionalities and improve code readability.\n",
    "\n",
    "Dynamic URLs: Flask supports dynamic URLs by allowing the use of variables in route definitions. This enables the creation of dynamic\n",
    "and parameterized routes, enhancing the flexibility of the web application.\n",
    "\n",
    "Clear Structure: App routing promotes a clear and organized structure for the web application, making it easier to understand, \n",
    "maintain, and extend as the project grows"
   ]
  },
  {
   "cell_type": "code",
   "execution_count": null,
   "id": "69235fc2-0bb9-4265-804c-2a598f2eda12",
   "metadata": {},
   "outputs": [],
   "source": [
    "Q4. Create a “/welcome” route to display the welcome message “Welcome to ABC Corporation” and a “/”route to show the following details:\n",
    "Company Name: ABC Corporation\n",
    "Location: India\n",
    "Contact Detail: 999-999-9999\n",
    "\n",
    "from flask import Flask, render_template\n",
    "\n",
    "app = Flask(__name__)\n",
    "\n",
    "@app.route('/')\n",
    "def home():\n",
    "    return \"<h1> company_name='ABC Corporation'<br> location='India', <br>contact_detail='999-999-9999'</h1>\"\n",
    "\n",
    "@app.route('/welcome')\n",
    "def welcome():\n",
    "    return 'Welcome to ABC Corporation'\n",
    "\n",
    "if __name__ == '__main__':\n",
    "    app.run(host=\"0.0.0.0\")\n"
   ]
  },
  {
   "cell_type": "raw",
   "id": "96384475-114e-4b3c-aded-2feb9db169ef",
   "metadata": {},
   "source": [
    "Q5. What function is used in Flask for URL Building? Write a Python code to demonstrate the working of the\n",
    "\n",
    "url_for() Function:\n",
    "url_for() is a function in Flask that is used for URL building. It generates a URL for the specified endpoint with the method provided."
   ]
  }
 ],
 "metadata": {
  "kernelspec": {
   "display_name": "Python 3 (ipykernel)",
   "language": "python",
   "name": "python3"
  },
  "language_info": {
   "codemirror_mode": {
    "name": "ipython",
    "version": 3
   },
   "file_extension": ".py",
   "mimetype": "text/x-python",
   "name": "python",
   "nbconvert_exporter": "python",
   "pygments_lexer": "ipython3",
   "version": "3.10.8"
  }
 },
 "nbformat": 4,
 "nbformat_minor": 5
}
